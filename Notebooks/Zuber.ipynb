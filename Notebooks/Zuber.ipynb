{
 "cells": [
  {
   "cell_type": "markdown",
   "metadata": {},
   "source": [
    "# Data Analysis of Zuber - Rides App \n",
    "## Importing libraries, reading dataframes and data overview"
   ]
  },
  {
   "cell_type": "code",
   "execution_count": 68,
   "metadata": {},
   "outputs": [
    {
     "name": "stdout",
     "output_type": "stream",
     "text": [
      "                        company_name  trips_amount\n",
      "0                          Flash Cab         19558\n",
      "1          Taxi Affiliation Services         11422\n",
      "2                   Medallion Leasin         10367\n",
      "3                         Yellow Cab          9888\n",
      "4    Taxi Affiliation Service Yellow          9299\n",
      "5          Chicago Carriage Cab Corp          9181\n",
      "6                       City Service          8448\n",
      "7                           Sun Taxi          7701\n",
      "8          Star North Management LLC          7455\n",
      "9  Blue Ribbon Taxi Association Inc.          5953\n",
      "\n",
      "<class 'pandas.core.frame.DataFrame'>\n",
      "RangeIndex: 64 entries, 0 to 63\n",
      "Data columns (total 2 columns):\n",
      " #   Column        Non-Null Count  Dtype \n",
      "---  ------        --------------  ----- \n",
      " 0   company_name  64 non-null     object\n",
      " 1   trips_amount  64 non-null     int64 \n",
      "dtypes: int64(1), object(1)\n",
      "memory usage: 1.1+ KB\n",
      "\n",
      "  dropoff_location_name  average_trips\n",
      "0                  Loop   10727.466667\n",
      "1           River North    9523.666667\n",
      "2         Streeterville    6664.666667\n",
      "3             West Loop    5163.666667\n",
      "4                O'Hare    2546.900000\n",
      "5             Lake View    2420.966667\n",
      "6            Grant Park    2068.533333\n",
      "7         Museum Campus    1510.000000\n",
      "8            Gold Coast    1364.233333\n",
      "9    Sheffield & DePaul    1259.766667\n",
      "\n",
      "<class 'pandas.core.frame.DataFrame'>\n",
      "RangeIndex: 94 entries, 0 to 93\n",
      "Data columns (total 2 columns):\n",
      " #   Column                 Non-Null Count  Dtype  \n",
      "---  ------                 --------------  -----  \n",
      " 0   dropoff_location_name  94 non-null     object \n",
      " 1   average_trips          94 non-null     float64\n",
      "dtypes: float64(1), object(1)\n",
      "memory usage: 1.6+ KB\n",
      "\n"
     ]
    }
   ],
   "source": [
    "# Importing libraries\n",
    "import pandas as pd\n",
    "import numpy as np\n",
    "import matplotlib.pyplot as plt\n",
    "import seaborn as sns\n",
    "import plotly.express as px\n",
    "from scipy import stats as st\n",
    "\n",
    "# Reading dataframes\n",
    "df1 = pd.read_csv('../project_sql_result_01.csv')\n",
    "df2 = pd.read_csv('../project_sql_result_04.csv')\n",
    "\n",
    "# Data overview\n",
    "print(df1.head(10))\n",
    "print()\n",
    "\n",
    "df1.info()\n",
    "print()\n",
    "\n",
    "print(df2.head(10))\n",
    "print()\n",
    "\n",
    "df2.info()\n",
    "print()"
   ]
  },
  {
   "cell_type": "markdown",
   "metadata": {},
   "source": [
    "### Checking if there are duplicated information"
   ]
  },
  {
   "cell_type": "code",
   "execution_count": 69,
   "metadata": {},
   "outputs": [
    {
     "name": "stdout",
     "output_type": "stream",
     "text": [
      "Total duplicados df1: 0\n",
      "Total duplicados df2: 0\n"
     ]
    }
   ],
   "source": [
    "# Counting duplicated values at in the Dataframe df1\n",
    "total_duplicates1 = df1.duplicated().sum()\n",
    "print(\"Total duplicados df1:\", total_duplicates1)\n",
    "\n",
    "# Counting duplicated values at in the Dataframe df2\n",
    "total_duplicates2 = df2.duplicated().sum()\n",
    "print(\"Total duplicados df2:\", total_duplicates2)"
   ]
  },
  {
   "cell_type": "markdown",
   "metadata": {},
   "source": [
    "### Comments\n",
    "1. No values missing in any dataframe.\n",
    "2. Data types are accurate.\n",
    "3. Column titles are as expected (snake_case way of writing).\n",
    "4. No values duplicated in any dataframe.\n",
    "\n",
    "Ready to go!"
   ]
  },
  {
   "cell_type": "markdown",
   "metadata": {},
   "source": [
    "## Identifying the top 10 destination neighborhoods"
   ]
  },
  {
   "cell_type": "code",
   "execution_count": 70,
   "metadata": {},
   "outputs": [
    {
     "data": {
      "text/html": [
       "<div>\n",
       "<style scoped>\n",
       "    .dataframe tbody tr th:only-of-type {\n",
       "        vertical-align: middle;\n",
       "    }\n",
       "\n",
       "    .dataframe tbody tr th {\n",
       "        vertical-align: top;\n",
       "    }\n",
       "\n",
       "    .dataframe thead th {\n",
       "        text-align: right;\n",
       "    }\n",
       "</style>\n",
       "<table border=\"1\" class=\"dataframe\">\n",
       "  <thead>\n",
       "    <tr style=\"text-align: right;\">\n",
       "      <th></th>\n",
       "      <th>dropoff_location_name</th>\n",
       "      <th>average_trips</th>\n",
       "    </tr>\n",
       "  </thead>\n",
       "  <tbody>\n",
       "    <tr>\n",
       "      <th>0</th>\n",
       "      <td>Loop</td>\n",
       "      <td>10727.47</td>\n",
       "    </tr>\n",
       "    <tr>\n",
       "      <th>1</th>\n",
       "      <td>River North</td>\n",
       "      <td>9523.67</td>\n",
       "    </tr>\n",
       "    <tr>\n",
       "      <th>2</th>\n",
       "      <td>Streeterville</td>\n",
       "      <td>6664.67</td>\n",
       "    </tr>\n",
       "    <tr>\n",
       "      <th>3</th>\n",
       "      <td>West Loop</td>\n",
       "      <td>5163.67</td>\n",
       "    </tr>\n",
       "    <tr>\n",
       "      <th>4</th>\n",
       "      <td>O'Hare</td>\n",
       "      <td>2546.90</td>\n",
       "    </tr>\n",
       "    <tr>\n",
       "      <th>5</th>\n",
       "      <td>Lake View</td>\n",
       "      <td>2420.97</td>\n",
       "    </tr>\n",
       "    <tr>\n",
       "      <th>6</th>\n",
       "      <td>Grant Park</td>\n",
       "      <td>2068.53</td>\n",
       "    </tr>\n",
       "    <tr>\n",
       "      <th>7</th>\n",
       "      <td>Museum Campus</td>\n",
       "      <td>1510.00</td>\n",
       "    </tr>\n",
       "    <tr>\n",
       "      <th>8</th>\n",
       "      <td>Gold Coast</td>\n",
       "      <td>1364.23</td>\n",
       "    </tr>\n",
       "    <tr>\n",
       "      <th>9</th>\n",
       "      <td>Sheffield &amp; DePaul</td>\n",
       "      <td>1259.77</td>\n",
       "    </tr>\n",
       "  </tbody>\n",
       "</table>\n",
       "</div>"
      ],
      "text/plain": [
       "  dropoff_location_name  average_trips\n",
       "0                  Loop       10727.47\n",
       "1           River North        9523.67\n",
       "2         Streeterville        6664.67\n",
       "3             West Loop        5163.67\n",
       "4                O'Hare        2546.90\n",
       "5             Lake View        2420.97\n",
       "6            Grant Park        2068.53\n",
       "7         Museum Campus        1510.00\n",
       "8            Gold Coast        1364.23\n",
       "9    Sheffield & DePaul        1259.77"
      ]
     },
     "execution_count": 70,
     "metadata": {},
     "output_type": "execute_result"
    }
   ],
   "source": [
    "top10_destination = df2.sort_values(by='average_trips', ascending=False).round(2).head(10)\n",
    "top10_destination"
   ]
  },
  {
   "cell_type": "markdown",
   "metadata": {},
   "source": [
    "## Visualizing data"
   ]
  },
  {
   "cell_type": "markdown",
   "metadata": {},
   "source": [
    "### Top 10 destination neighborhoods Plot"
   ]
  },
  {
   "cell_type": "code",
   "execution_count": 71,
   "metadata": {},
   "outputs": [
    {
     "data": {
      "image/png": "[encoded data removed]",
      "text/plain": [
       "<Figure size 1000x600 with 1 Axes>"
      ]
     },
     "metadata": {},
     "output_type": "display_data"
    }
   ],
   "source": [
    "# Creating bar plot for the top 10 destination neighborhoods\n",
    "plt.figure(figsize=(10, 6))\n",
    "plt.barh(top10_destination['dropoff_location_name'], top10_destination['average_trips'], color='skyblue')\n",
    "plt.xlabel('Average Number of Trips')\n",
    "plt.title('Top 10 Destination Neighborhoods')\n",
    "plt.gca().invert_yaxis()  # Invert y-axis and x-axis\n",
    "plt.show()"
   ]
  },
  {
   "cell_type": "markdown",
   "metadata": {},
   "source": [
    "### Conclusions\n",
    "The top 10 destination neighborhoods are Loop, River North, Streeterville, West Loop, O'Hare, Lake View, Grant Park, Museum Campus, Gold Coast, Sheffield & DePaul. The top four destinations are the main destinations."
   ]
  },
  {
   "cell_type": "markdown",
   "metadata": {},
   "source": [
    "### Top 10 taxi companies plot"
   ]
  },
  {
   "cell_type": "code",
   "execution_count": 72,
   "metadata": {},
   "outputs": [
    {
     "name": "stdout",
     "output_type": "stream",
     "text": [
      "                        company_name  trips_amount\n",
      "0                          Flash Cab         19558\n",
      "1          Taxi Affiliation Services         11422\n",
      "2                   Medallion Leasin         10367\n",
      "3                         Yellow Cab          9888\n",
      "4    Taxi Affiliation Service Yellow          9299\n",
      "5          Chicago Carriage Cab Corp          9181\n",
      "6                       City Service          8448\n",
      "7                           Sun Taxi          7701\n",
      "8          Star North Management LLC          7455\n",
      "9  Blue Ribbon Taxi Association Inc.          5953\n"
     ]
    },
    {
     "data": {
      "image/png": "[encoded data removed]",
      "text/plain": [
       "<Figure size 1000x600 with 1 Axes>"
      ]
     },
     "metadata": {},
     "output_type": "display_data"
    }
   ],
   "source": [
    "# Identifying the top 10 taxi companies\n",
    "top10_taxi_companies = df1.sort_values(by='trips_amount', ascending=False).head(10)\n",
    "print(top10_taxi_companies)\n",
    "\n",
    "# Creating bar plot for the top 10 taxi companies \n",
    "plt.figure(figsize=(10, 6))\n",
    "plt.barh(top10_taxi_companies['company_name'], top10_taxi_companies['trips_amount'], color='skyblue')\n",
    "plt.xlabel('Average Number of Trips')\n",
    "plt.title('Top 10 Taxi Companies')\n",
    "plt.gca().invert_yaxis()  # Invert y-axis and x-axis\n",
    "plt.show()"
   ]
  },
  {
   "cell_type": "markdown",
   "metadata": {},
   "source": [
    "### Conclusions\n",
    "The top 10 taxi companies are: Flash Cab, Taxi Affiliation Services, Medallion Leasing, Yellow Cab, Taxi Affiliation Service Yellow, Chicago Carriage Cab Corp, City Service, Sun Taxi, Star North Management LLC, Blue Ribbon Taxi Association Inc. Flash Cab is the preferred one."
   ]
  },
  {
   "cell_type": "markdown",
   "metadata": {},
   "source": [
    "## Testing Hipothesis"
   ]
  },
  {
   "cell_type": "markdown",
   "metadata": {},
   "source": [
    "\n",
    "Ele contém dados sobre viagens do Loop para o Aeroporto Internacional O'Hare. Lembre-se, estes são os valores dos campos da tabela:\n",
    "\n",
    "start_ts\n",
    "data e hora de coleta\n",
    "\n",
    "weather_conditions\n",
    "condições meteorológicas no momento em que a corrida começou\n",
    "\n",
    "duration_seconds\n",
    "duração da corrida em segundos\n",
    "\n",
    "Teste a hipótese:\n",
    "\n",
    "\"A duração média dos passeios do Loop para o Aeroporto Internacional O'Hare muda nos sábados chuvosos.\" \n",
    "\n",
    "Decida onde definir o nível de significância (alfa) por conta própria.\n",
    "\n",
    "Explique:\n",
    "\n",
    "como você formou as hipóteses nula e alternativa\n",
    "qual critério você usou para testar a hipótese e porque"
   ]
  },
  {
   "cell_type": "code",
   "execution_count": 73,
   "metadata": {},
   "outputs": [
    {
     "name": "stdout",
     "output_type": "stream",
     "text": [
      "              start_ts weather_conditions  duration_seconds\n",
      "0  2017-11-25 16:00:00               Good            2410.0\n",
      "1  2017-11-25 14:00:00               Good            1920.0\n",
      "2  2017-11-25 12:00:00               Good            1543.0\n",
      "3  2017-11-04 10:00:00               Good            2512.0\n",
      "4  2017-11-11 07:00:00               Good            1440.0\n",
      "5  2017-11-11 04:00:00               Good            1320.0\n",
      "6  2017-11-04 16:00:00                Bad            2969.0\n",
      "7  2017-11-18 11:00:00               Good            2280.0\n",
      "8  2017-11-11 14:00:00               Good            2460.0\n",
      "9  2017-11-11 12:00:00               Good            2040.0\n",
      "\n",
      "<class 'pandas.core.frame.DataFrame'>\n",
      "RangeIndex: 1068 entries, 0 to 1067\n",
      "Data columns (total 3 columns):\n",
      " #   Column              Non-Null Count  Dtype  \n",
      "---  ------              --------------  -----  \n",
      " 0   start_ts            1068 non-null   object \n",
      " 1   weather_conditions  1068 non-null   object \n",
      " 2   duration_seconds    1068 non-null   float64\n",
      "dtypes: float64(1), object(2)\n",
      "memory usage: 25.2+ KB\n",
      "\n"
     ]
    }
   ],
   "source": [
    "# The resulting dataframe contains data on trips from the Loop to O'Hare International Airport.\n",
    "# Reading SQL results dataframe\n",
    "df3 = pd.read_csv('../project_sql_result_07.csv')\n",
    "\n",
    "# Data overview\n",
    "print(df3.head(10))\n",
    "print()\n",
    "\n",
    "df3.info()\n",
    "print()"
   ]
  },
  {
   "cell_type": "code",
   "execution_count": 74,
   "metadata": {},
   "outputs": [
    {
     "name": "stdout",
     "output_type": "stream",
     "text": [
      "Q1:  1438.25\n",
      "Q3:  2580.0\n",
      "IQR:  1141.75\n",
      "mín:  0\n",
      "máx:  4292.625\n"
     ]
    },
    {
     "data": {
      "image/png": "[encoded data removed]",
      "text/plain": [
       "<Figure size 640x480 with 1 Axes>"
      ]
     },
     "metadata": {},
     "output_type": "display_data"
    }
   ],
   "source": [
    "# Removing outliers\n",
    "Q1 = df3['duration_seconds'].quantile(0.25)\n",
    "Q3 = df3['duration_seconds'].quantile(0.75)\n",
    "IQR = Q3 - Q1\n",
    "print('Q1: ', Q1)\n",
    "print('Q3: ', Q3)\n",
    "print('IQR: ', IQR)\n",
    "\n",
    "#\n",
    "inf_limite = Q1 - (1.5* IQR)\n",
    "sup_limite = Q3 + 1.5 * IQR\n",
    "if inf_limite < 0:\n",
    "    inf_limite = 0\n",
    "print('mín: ', inf_limite)\n",
    "print('máx: ', sup_limite)\n",
    "\n",
    "\n",
    "# Removing Outliers\n",
    "climate_no_outliers = df3.query('duration_seconds <= @sup_limite')\n",
    "sns.boxplot(x=\"duration_seconds\", y=\"weather_conditions\", data=climate_no_outliers).set_title('Duration (seg) per Climate Condition')\n",
    "plt.show()"
   ]
  },
  {
   "cell_type": "code",
   "execution_count": 75,
   "metadata": {},
   "outputs": [
    {
     "name": "stdout",
     "output_type": "stream",
     "text": [
      "Mean Duration on Good Weather: 1999.68\n",
      "Mean Duration on Bad Weather: 2427.21\n",
      "T-statistic: -7.19, P-value: 0.0000\n",
      "Reject the null hypothesis: There is a significant difference in trip durations.\n"
     ]
    }
   ],
   "source": [
    "\"\"\"\n",
    "The null hypothesis (H0) will be: \"A duração média dos passeios do Loop para o Aeroporto Internacional O'Hare não muda nos sábados chuvosos.\n",
    "The alternative hypothesis will be: \"A duração média dos passeios do Loop para o Aeroporto Internacional O'Hare muda nos sábados chuvosos.\n",
    "The alpha threshold will be: 0.05\n",
    "\"\"\"\n",
    "\n",
    "# Filtering data per weather condition and taking the duration column\n",
    "good_weather = df3[df3['weather_conditions'] == \"Good\"]['duration_seconds']\n",
    "bad_weather = df3[df3['weather_conditions'] == \"Bad\"]['duration_seconds']\n",
    "\n",
    "# Calculating means\n",
    "mean_good = good_weather.mean()\n",
    "mean_bad = bad_weather.mean()\n",
    "\n",
    "# Critical statistical significance (threshold)\n",
    "alpha = 0.05\n",
    "\n",
    "# Student's t-test for two independent samples. Use equal_var=False for unequal variances\n",
    "t_stat, p_value = st.ttest_ind(good_weather, bad_weather, equal_var=False)\n",
    "\n",
    "# Output results\n",
    "print(f\"Mean Duration on Good Weather: {mean_good:.2f}\")\n",
    "print(f\"Mean Duration on Bad Weather: {mean_bad:.2f}\")\n",
    "print(f\"T-statistic: {t_stat:.2f}, P-value: {p_value:.4f}\")\n",
    "\n",
    "# Hypothesis test result\n",
    "if p_value < 0.05:\n",
    "    print(\"Reject the null hypothesis: There is a significant difference in trip durations.\")\n",
    "else:\n",
    "    print(\"Fail to reject the null hypothesis: No significant difference in trip durations.\")"
   ]
  },
  {
   "cell_type": "markdown",
   "metadata": {},
   "source": [
    "### Conclusions\n",
    "1. The null hypothesis were formulated assuming that there is no effect or difference between the study conditions. The alternative hypothesis were one in which there is an effect or difference.\n",
    "2. It was used the Student's t-test for two independent samples to analyze the data, considering a significance level of 0.05."
   ]
  }
 ],
 "metadata": {
  "ExecuteTimeLog": [
   {
    "duration": 3143,
    "start_time": "2024-10-31T22:18:02.107Z"
   },
   {
    "duration": 25,
    "start_time": "2024-10-31T22:19:44.460Z"
   },
   {
    "duration": 21,
    "start_time": "2024-10-31T22:20:20.757Z"
   },
   {
    "duration": 23,
    "start_time": "2024-10-31T22:21:13.993Z"
   },
   {
    "duration": 3,
    "start_time": "2024-10-31T22:24:04.450Z"
   },
   {
    "duration": 6,
    "start_time": "2024-10-31T22:28:57.061Z"
   },
   {
    "duration": 8,
    "start_time": "2024-10-31T22:29:13.442Z"
   },
   {
    "duration": 4,
    "start_time": "2024-10-31T22:31:04.938Z"
   },
   {
    "duration": 935,
    "start_time": "2024-10-31T22:31:42.847Z"
   },
   {
    "duration": 4,
    "start_time": "2024-10-31T22:31:43.784Z"
   },
   {
    "duration": 4,
    "start_time": "2024-10-31T22:36:06.754Z"
   },
   {
    "duration": 10,
    "start_time": "2024-10-31T22:39:23.284Z"
   },
   {
    "duration": 281,
    "start_time": "2024-10-31T22:42:53.912Z"
   },
   {
    "duration": 17,
    "start_time": "2024-10-31T22:43:23.817Z"
   },
   {
    "duration": 1166,
    "start_time": "2024-10-31T22:43:36.742Z"
   },
   {
    "duration": 137,
    "start_time": "2024-10-31T22:44:08.390Z"
   },
   {
    "duration": 136,
    "start_time": "2024-10-31T22:47:03.991Z"
   },
   {
    "duration": 21,
    "start_time": "2024-10-31T22:49:26.029Z"
   },
   {
    "duration": 154,
    "start_time": "2024-10-31T22:49:33.654Z"
   },
   {
    "duration": 154,
    "start_time": "2024-10-31T22:50:30.911Z"
   },
   {
    "duration": 210,
    "start_time": "2024-10-31T22:54:35.050Z"
   },
   {
    "duration": 147,
    "start_time": "2024-10-31T22:54:45.492Z"
   },
   {
    "duration": 2545,
    "start_time": "2024-11-01T00:00:17.360Z"
   },
   {
    "duration": 5,
    "start_time": "2024-11-01T00:00:19.907Z"
   },
   {
    "duration": 9,
    "start_time": "2024-11-01T00:00:19.913Z"
   },
   {
    "duration": 303,
    "start_time": "2024-11-01T00:00:19.924Z"
   },
   {
    "duration": 0,
    "start_time": "2024-11-01T00:00:20.229Z"
   },
   {
    "duration": 132,
    "start_time": "2024-11-01T00:01:03.746Z"
   },
   {
    "duration": 104,
    "start_time": "2024-11-01T00:01:46.382Z"
   },
   {
    "duration": 157,
    "start_time": "2024-11-01T00:02:06.899Z"
   },
   {
    "duration": 151,
    "start_time": "2024-11-01T00:05:21.843Z"
   },
   {
    "duration": 16,
    "start_time": "2024-11-01T00:08:45.911Z"
   },
   {
    "duration": 17,
    "start_time": "2024-11-01T00:12:34.846Z"
   },
   {
    "duration": 13,
    "start_time": "2024-11-01T00:12:46.560Z"
   },
   {
    "duration": 14,
    "start_time": "2024-11-01T00:15:12.821Z"
   },
   {
    "duration": 6,
    "start_time": "2024-11-01T00:16:10.763Z"
   },
   {
    "duration": 6,
    "start_time": "2024-11-01T00:16:24.149Z"
   },
   {
    "duration": 7,
    "start_time": "2024-11-01T00:22:58.473Z"
   },
   {
    "duration": 21,
    "start_time": "2024-11-01T00:23:28.367Z"
   },
   {
    "duration": 20,
    "start_time": "2024-11-01T00:23:37.510Z"
   },
   {
    "duration": 5,
    "start_time": "2024-11-01T00:23:48.597Z"
   },
   {
    "duration": 20,
    "start_time": "2024-11-01T00:24:07.083Z"
   },
   {
    "duration": 20,
    "start_time": "2024-11-01T00:24:17.771Z"
   },
   {
    "duration": 25,
    "start_time": "2024-11-01T00:24:28.852Z"
   },
   {
    "duration": 71,
    "start_time": "2024-11-01T00:24:35.737Z"
   },
   {
    "duration": 7,
    "start_time": "2024-11-01T00:25:05.496Z"
   },
   {
    "duration": 162,
    "start_time": "2024-11-01T22:37:17.492Z"
   },
   {
    "duration": 2704,
    "start_time": "2024-11-01T22:37:25.040Z"
   },
   {
    "duration": 5,
    "start_time": "2024-11-01T22:37:27.746Z"
   },
   {
    "duration": 9,
    "start_time": "2024-11-01T22:37:27.753Z"
   },
   {
    "duration": 167,
    "start_time": "2024-11-01T22:37:27.764Z"
   },
   {
    "duration": 179,
    "start_time": "2024-11-01T22:37:27.933Z"
   },
   {
    "duration": 17,
    "start_time": "2024-11-01T22:37:28.113Z"
   },
   {
    "duration": 16,
    "start_time": "2024-11-01T22:37:28.131Z"
   },
   {
    "duration": 163,
    "start_time": "2024-11-01T22:38:10.633Z"
   }
  ],
  "kernelspec": {
   "display_name": "base",
   "language": "python",
   "name": "python3"
  },
  "language_info": {
   "codemirror_mode": {
    "name": "ipython",
    "version": 3
   },
   "file_extension": ".py",
   "mimetype": "text/x-python",
   "name": "python",
   "nbconvert_exporter": "python",
   "pygments_lexer": "ipython3",
   "version": "3.12.4"
  },
  "toc": {
   "base_numbering": 1,
   "nav_menu": {},
   "number_sections": true,
   "sideBar": true,
   "skip_h1_title": true,
   "title_cell": "Table of Contents",
   "title_sidebar": "Contents",
   "toc_cell": false,
   "toc_position": {},
   "toc_section_display": true,
   "toc_window_display": false
  }
 },
 "nbformat": 4,
 "nbformat_minor": 2
}
